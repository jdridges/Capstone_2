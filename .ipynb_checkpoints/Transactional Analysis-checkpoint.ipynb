{
 "cells": [
  {
   "cell_type": "code",
   "execution_count": 2,
   "id": "31bf7a82-f418-4d84-b5f4-2f5ab39ea8f9",
   "metadata": {},
   "outputs": [],
   "source": [
    "import pandas as pd\n",
    "import numpy as np\n",
    "import matplotlib.pyplot as plt"
   ]
  },
  {
   "cell_type": "code",
   "execution_count": 3,
   "id": "fd2f5d88-951e-452b-a524-8c60c17c24e3",
   "metadata": {},
   "outputs": [],
   "source": [
    "df = pd.read_csv('transaction_data.csv')"
   ]
  },
  {
   "cell_type": "markdown",
   "id": "689e5ae6-b143-4fca-ac34-f3c5b5d96f06",
   "metadata": {},
   "source": [
    "### Started by understanding a little more about the DataFrame:"
   ]
  },
  {
   "cell_type": "code",
   "execution_count": 4,
   "id": "2aadba97-7634-4fdf-baed-cf4d7336e995",
   "metadata": {},
   "outputs": [
    {
     "data": {
      "text/html": [
       "<div>\n",
       "<style scoped>\n",
       "    .dataframe tbody tr th:only-of-type {\n",
       "        vertical-align: middle;\n",
       "    }\n",
       "\n",
       "    .dataframe tbody tr th {\n",
       "        vertical-align: top;\n",
       "    }\n",
       "\n",
       "    .dataframe thead th {\n",
       "        text-align: right;\n",
       "    }\n",
       "</style>\n",
       "<table border=\"1\" class=\"dataframe\">\n",
       "  <thead>\n",
       "    <tr style=\"text-align: right;\">\n",
       "      <th></th>\n",
       "      <th>TransactionID</th>\n",
       "      <th>CustID</th>\n",
       "      <th>Date</th>\n",
       "      <th>Employee</th>\n",
       "      <th>ProductID</th>\n",
       "      <th>ProductName</th>\n",
       "      <th>VendorID</th>\n",
       "      <th>ProductVendor</th>\n",
       "      <th>UnitPrice</th>\n",
       "      <th>Quantity</th>\n",
       "      <th>Subtotal</th>\n",
       "      <th>Tax(8%)</th>\n",
       "      <th>OrderTotal</th>\n",
       "    </tr>\n",
       "  </thead>\n",
       "  <tbody>\n",
       "    <tr>\n",
       "      <th>0</th>\n",
       "      <td>10258</td>\n",
       "      <td>1</td>\n",
       "      <td>7/17/2023</td>\n",
       "      <td>Nancy Davolio</td>\n",
       "      <td>32</td>\n",
       "      <td>Mascarpone Fabioli</td>\n",
       "      <td>14</td>\n",
       "      <td>Formaggi Fortini s.r.l.</td>\n",
       "      <td>25.6</td>\n",
       "      <td>6</td>\n",
       "      <td>153.6</td>\n",
       "      <td>12.29</td>\n",
       "      <td>165.89</td>\n",
       "    </tr>\n",
       "    <tr>\n",
       "      <th>1</th>\n",
       "      <td>10275</td>\n",
       "      <td>2</td>\n",
       "      <td>8/7/2023</td>\n",
       "      <td>Nancy Davolio</td>\n",
       "      <td>24</td>\n",
       "      <td>Guaran Fantstica</td>\n",
       "      <td>10</td>\n",
       "      <td>Refrescos Americanas LTDA</td>\n",
       "      <td>3.6</td>\n",
       "      <td>12</td>\n",
       "      <td>43.2</td>\n",
       "      <td>3.46</td>\n",
       "      <td>46.66</td>\n",
       "    </tr>\n",
       "    <tr>\n",
       "      <th>2</th>\n",
       "      <td>10275</td>\n",
       "      <td>2</td>\n",
       "      <td>8/7/2023</td>\n",
       "      <td>Nancy Davolio</td>\n",
       "      <td>59</td>\n",
       "      <td>Raclette Courdavault</td>\n",
       "      <td>28</td>\n",
       "      <td>Gai pturage</td>\n",
       "      <td>44.0</td>\n",
       "      <td>6</td>\n",
       "      <td>264.0</td>\n",
       "      <td>21.12</td>\n",
       "      <td>285.12</td>\n",
       "    </tr>\n",
       "    <tr>\n",
       "      <th>3</th>\n",
       "      <td>10292</td>\n",
       "      <td>3</td>\n",
       "      <td>8/28/2023</td>\n",
       "      <td>Nancy Davolio</td>\n",
       "      <td>20</td>\n",
       "      <td>Sir Rodney's Marmalade</td>\n",
       "      <td>8</td>\n",
       "      <td>Specialty Biscuits, Ltd.</td>\n",
       "      <td>64.8</td>\n",
       "      <td>20</td>\n",
       "      <td>1296.0</td>\n",
       "      <td>103.68</td>\n",
       "      <td>1399.68</td>\n",
       "    </tr>\n",
       "    <tr>\n",
       "      <th>4</th>\n",
       "      <td>10293</td>\n",
       "      <td>4</td>\n",
       "      <td>8/29/2023</td>\n",
       "      <td>Nancy Davolio</td>\n",
       "      <td>18</td>\n",
       "      <td>Carnarvon Tigers</td>\n",
       "      <td>7</td>\n",
       "      <td>Pavlova, Ltd.</td>\n",
       "      <td>50.0</td>\n",
       "      <td>12</td>\n",
       "      <td>600.0</td>\n",
       "      <td>48.00</td>\n",
       "      <td>648.00</td>\n",
       "    </tr>\n",
       "    <tr>\n",
       "      <th>5</th>\n",
       "      <td>10293</td>\n",
       "      <td>4</td>\n",
       "      <td>8/29/2023</td>\n",
       "      <td>Nancy Davolio</td>\n",
       "      <td>24</td>\n",
       "      <td>Guaran Fantstica</td>\n",
       "      <td>10</td>\n",
       "      <td>Refrescos Americanas LTDA</td>\n",
       "      <td>3.6</td>\n",
       "      <td>10</td>\n",
       "      <td>36.0</td>\n",
       "      <td>2.88</td>\n",
       "      <td>38.88</td>\n",
       "    </tr>\n",
       "    <tr>\n",
       "      <th>6</th>\n",
       "      <td>10293</td>\n",
       "      <td>4</td>\n",
       "      <td>8/29/2023</td>\n",
       "      <td>Nancy Davolio</td>\n",
       "      <td>63</td>\n",
       "      <td>Vegie-spread</td>\n",
       "      <td>7</td>\n",
       "      <td>Pavlova, Ltd.</td>\n",
       "      <td>35.1</td>\n",
       "      <td>5</td>\n",
       "      <td>175.5</td>\n",
       "      <td>14.04</td>\n",
       "      <td>189.54</td>\n",
       "    </tr>\n",
       "    <tr>\n",
       "      <th>7</th>\n",
       "      <td>10293</td>\n",
       "      <td>4</td>\n",
       "      <td>8/29/2023</td>\n",
       "      <td>Nancy Davolio</td>\n",
       "      <td>75</td>\n",
       "      <td>Rhnbru Klosterbier</td>\n",
       "      <td>12</td>\n",
       "      <td>Plutzer Lebensmittelgromrkte AG</td>\n",
       "      <td>6.2</td>\n",
       "      <td>6</td>\n",
       "      <td>37.2</td>\n",
       "      <td>2.98</td>\n",
       "      <td>40.18</td>\n",
       "    </tr>\n",
       "    <tr>\n",
       "      <th>8</th>\n",
       "      <td>10304</td>\n",
       "      <td>4</td>\n",
       "      <td>9/12/2023</td>\n",
       "      <td>Nancy Davolio</td>\n",
       "      <td>59</td>\n",
       "      <td>Raclette Courdavault</td>\n",
       "      <td>28</td>\n",
       "      <td>Gai pturage</td>\n",
       "      <td>44.0</td>\n",
       "      <td>10</td>\n",
       "      <td>440.0</td>\n",
       "      <td>35.20</td>\n",
       "      <td>475.20</td>\n",
       "    </tr>\n",
       "    <tr>\n",
       "      <th>9</th>\n",
       "      <td>10304</td>\n",
       "      <td>4</td>\n",
       "      <td>9/12/2023</td>\n",
       "      <td>Nancy Davolio</td>\n",
       "      <td>71</td>\n",
       "      <td>Flotemysost</td>\n",
       "      <td>15</td>\n",
       "      <td>Norske Meierier</td>\n",
       "      <td>17.2</td>\n",
       "      <td>2</td>\n",
       "      <td>34.4</td>\n",
       "      <td>2.75</td>\n",
       "      <td>37.15</td>\n",
       "    </tr>\n",
       "  </tbody>\n",
       "</table>\n",
       "</div>"
      ],
      "text/plain": [
       "   TransactionID  CustID       Date       Employee  ProductID  \\\n",
       "0          10258       1  7/17/2023  Nancy Davolio         32   \n",
       "1          10275       2   8/7/2023  Nancy Davolio         24   \n",
       "2          10275       2   8/7/2023  Nancy Davolio         59   \n",
       "3          10292       3  8/28/2023  Nancy Davolio         20   \n",
       "4          10293       4  8/29/2023  Nancy Davolio         18   \n",
       "5          10293       4  8/29/2023  Nancy Davolio         24   \n",
       "6          10293       4  8/29/2023  Nancy Davolio         63   \n",
       "7          10293       4  8/29/2023  Nancy Davolio         75   \n",
       "8          10304       4  9/12/2023  Nancy Davolio         59   \n",
       "9          10304       4  9/12/2023  Nancy Davolio         71   \n",
       "\n",
       "              ProductName  VendorID                    ProductVendor  \\\n",
       "0      Mascarpone Fabioli        14          Formaggi Fortini s.r.l.   \n",
       "1        Guaran Fantstica        10        Refrescos Americanas LTDA   \n",
       "2    Raclette Courdavault        28                      Gai pturage   \n",
       "3  Sir Rodney's Marmalade         8         Specialty Biscuits, Ltd.   \n",
       "4        Carnarvon Tigers         7                    Pavlova, Ltd.   \n",
       "5        Guaran Fantstica        10        Refrescos Americanas LTDA   \n",
       "6            Vegie-spread         7                    Pavlova, Ltd.   \n",
       "7      Rhnbru Klosterbier        12  Plutzer Lebensmittelgromrkte AG   \n",
       "8    Raclette Courdavault        28                      Gai pturage   \n",
       "9             Flotemysost        15                  Norske Meierier   \n",
       "\n",
       "   UnitPrice  Quantity  Subtotal  Tax(8%)  OrderTotal  \n",
       "0       25.6         6     153.6    12.29      165.89  \n",
       "1        3.6        12      43.2     3.46       46.66  \n",
       "2       44.0         6     264.0    21.12      285.12  \n",
       "3       64.8        20    1296.0   103.68     1399.68  \n",
       "4       50.0        12     600.0    48.00      648.00  \n",
       "5        3.6        10      36.0     2.88       38.88  \n",
       "6       35.1         5     175.5    14.04      189.54  \n",
       "7        6.2         6      37.2     2.98       40.18  \n",
       "8       44.0        10     440.0    35.20      475.20  \n",
       "9       17.2         2      34.4     2.75       37.15  "
      ]
     },
     "execution_count": 4,
     "metadata": {},
     "output_type": "execute_result"
    }
   ],
   "source": [
    "df.head(10)"
   ]
  },
  {
   "cell_type": "markdown",
   "id": "28f21338-c055-45a4-b73b-7f9cb9adc4a9",
   "metadata": {},
   "source": [
    "There are many columns. It is going to be important to get specific when performing analysis."
   ]
  },
  {
   "cell_type": "code",
   "execution_count": 5,
   "id": "8d09d26a-ac07-403e-a366-295e5aea9fb9",
   "metadata": {},
   "outputs": [
    {
     "data": {
      "text/html": [
       "<div>\n",
       "<style scoped>\n",
       "    .dataframe tbody tr th:only-of-type {\n",
       "        vertical-align: middle;\n",
       "    }\n",
       "\n",
       "    .dataframe tbody tr th {\n",
       "        vertical-align: top;\n",
       "    }\n",
       "\n",
       "    .dataframe thead th {\n",
       "        text-align: right;\n",
       "    }\n",
       "</style>\n",
       "<table border=\"1\" class=\"dataframe\">\n",
       "  <thead>\n",
       "    <tr style=\"text-align: right;\">\n",
       "      <th></th>\n",
       "      <th>TransactionID</th>\n",
       "      <th>CustID</th>\n",
       "      <th>ProductID</th>\n",
       "      <th>VendorID</th>\n",
       "      <th>UnitPrice</th>\n",
       "      <th>Quantity</th>\n",
       "      <th>Subtotal</th>\n",
       "      <th>Tax(8%)</th>\n",
       "      <th>OrderTotal</th>\n",
       "    </tr>\n",
       "  </thead>\n",
       "  <tbody>\n",
       "    <tr>\n",
       "      <th>count</th>\n",
       "      <td>1353.000000</td>\n",
       "      <td>1353.000000</td>\n",
       "      <td>1353.000000</td>\n",
       "      <td>1353.000000</td>\n",
       "      <td>1353.000000</td>\n",
       "      <td>1353.000000</td>\n",
       "      <td>1353.000000</td>\n",
       "      <td>1353.000000</td>\n",
       "      <td>1353.000000</td>\n",
       "    </tr>\n",
       "    <tr>\n",
       "      <th>mean</th>\n",
       "      <td>10661.179601</td>\n",
       "      <td>38.942350</td>\n",
       "      <td>40.389505</td>\n",
       "      <td>14.318551</td>\n",
       "      <td>25.908899</td>\n",
       "      <td>12.631929</td>\n",
       "      <td>324.537568</td>\n",
       "      <td>25.962971</td>\n",
       "      <td>350.500540</td>\n",
       "    </tr>\n",
       "    <tr>\n",
       "      <th>std</th>\n",
       "      <td>243.094311</td>\n",
       "      <td>25.056615</td>\n",
       "      <td>22.277628</td>\n",
       "      <td>8.217175</td>\n",
       "      <td>28.613063</td>\n",
       "      <td>6.395421</td>\n",
       "      <td>403.982507</td>\n",
       "      <td>32.318600</td>\n",
       "      <td>436.301107</td>\n",
       "    </tr>\n",
       "    <tr>\n",
       "      <th>min</th>\n",
       "      <td>10248.000000</td>\n",
       "      <td>1.000000</td>\n",
       "      <td>1.000000</td>\n",
       "      <td>1.000000</td>\n",
       "      <td>2.000000</td>\n",
       "      <td>1.000000</td>\n",
       "      <td>4.800000</td>\n",
       "      <td>0.380000</td>\n",
       "      <td>5.180000</td>\n",
       "    </tr>\n",
       "    <tr>\n",
       "      <th>25%</th>\n",
       "      <td>10454.000000</td>\n",
       "      <td>17.000000</td>\n",
       "      <td>21.000000</td>\n",
       "      <td>7.000000</td>\n",
       "      <td>12.000000</td>\n",
       "      <td>7.000000</td>\n",
       "      <td>100.000000</td>\n",
       "      <td>8.000000</td>\n",
       "      <td>108.000000</td>\n",
       "    </tr>\n",
       "    <tr>\n",
       "      <th>50%</th>\n",
       "      <td>10656.000000</td>\n",
       "      <td>35.000000</td>\n",
       "      <td>41.000000</td>\n",
       "      <td>14.000000</td>\n",
       "      <td>18.400000</td>\n",
       "      <td>12.000000</td>\n",
       "      <td>210.000000</td>\n",
       "      <td>16.800000</td>\n",
       "      <td>226.800000</td>\n",
       "    </tr>\n",
       "    <tr>\n",
       "      <th>75%</th>\n",
       "      <td>10864.000000</td>\n",
       "      <td>60.000000</td>\n",
       "      <td>60.000000</td>\n",
       "      <td>21.000000</td>\n",
       "      <td>31.230000</td>\n",
       "      <td>20.000000</td>\n",
       "      <td>394.000000</td>\n",
       "      <td>31.520000</td>\n",
       "      <td>425.520000</td>\n",
       "    </tr>\n",
       "    <tr>\n",
       "      <th>max</th>\n",
       "      <td>11077.000000</td>\n",
       "      <td>89.000000</td>\n",
       "      <td>77.000000</td>\n",
       "      <td>29.000000</td>\n",
       "      <td>263.500000</td>\n",
       "      <td>24.000000</td>\n",
       "      <td>4216.000000</td>\n",
       "      <td>337.280000</td>\n",
       "      <td>4553.280000</td>\n",
       "    </tr>\n",
       "  </tbody>\n",
       "</table>\n",
       "</div>"
      ],
      "text/plain": [
       "       TransactionID       CustID    ProductID     VendorID    UnitPrice  \\\n",
       "count    1353.000000  1353.000000  1353.000000  1353.000000  1353.000000   \n",
       "mean    10661.179601    38.942350    40.389505    14.318551    25.908899   \n",
       "std       243.094311    25.056615    22.277628     8.217175    28.613063   \n",
       "min     10248.000000     1.000000     1.000000     1.000000     2.000000   \n",
       "25%     10454.000000    17.000000    21.000000     7.000000    12.000000   \n",
       "50%     10656.000000    35.000000    41.000000    14.000000    18.400000   \n",
       "75%     10864.000000    60.000000    60.000000    21.000000    31.230000   \n",
       "max     11077.000000    89.000000    77.000000    29.000000   263.500000   \n",
       "\n",
       "          Quantity     Subtotal      Tax(8%)   OrderTotal  \n",
       "count  1353.000000  1353.000000  1353.000000  1353.000000  \n",
       "mean     12.631929   324.537568    25.962971   350.500540  \n",
       "std       6.395421   403.982507    32.318600   436.301107  \n",
       "min       1.000000     4.800000     0.380000     5.180000  \n",
       "25%       7.000000   100.000000     8.000000   108.000000  \n",
       "50%      12.000000   210.000000    16.800000   226.800000  \n",
       "75%      20.000000   394.000000    31.520000   425.520000  \n",
       "max      24.000000  4216.000000   337.280000  4553.280000  "
      ]
     },
     "execution_count": 5,
     "metadata": {},
     "output_type": "execute_result"
    }
   ],
   "source": [
    "df.describe()"
   ]
  },
  {
   "cell_type": "markdown",
   "id": "56735f3a-c540-4620-9cde-e2fbe62f61bc",
   "metadata": {},
   "source": [
    "Something that jumped out at me right awat was the Subtotal column and seeing the difference between min and max, along with seeing where that mean value is given those other points."
   ]
  },
  {
   "cell_type": "code",
   "execution_count": 6,
   "id": "ea013671-fa65-43d4-bf01-6d4374ab8280",
   "metadata": {},
   "outputs": [
    {
     "name": "stdout",
     "output_type": "stream",
     "text": [
      "<class 'pandas.core.frame.DataFrame'>\n",
      "RangeIndex: 1353 entries, 0 to 1352\n",
      "Data columns (total 13 columns):\n",
      " #   Column         Non-Null Count  Dtype  \n",
      "---  ------         --------------  -----  \n",
      " 0   TransactionID  1353 non-null   int64  \n",
      " 1   CustID         1353 non-null   int64  \n",
      " 2   Date           1353 non-null   object \n",
      " 3   Employee       1353 non-null   object \n",
      " 4   ProductID      1353 non-null   int64  \n",
      " 5   ProductName    1353 non-null   object \n",
      " 6   VendorID       1353 non-null   int64  \n",
      " 7   ProductVendor  1353 non-null   object \n",
      " 8   UnitPrice      1353 non-null   float64\n",
      " 9   Quantity       1353 non-null   int64  \n",
      " 10  Subtotal       1353 non-null   float64\n",
      " 11  Tax(8%)        1353 non-null   float64\n",
      " 12  OrderTotal     1353 non-null   float64\n",
      "dtypes: float64(4), int64(5), object(4)\n",
      "memory usage: 137.5+ KB\n"
     ]
    }
   ],
   "source": [
    "df.info()"
   ]
  },
  {
   "cell_type": "markdown",
   "id": "baf496aa-a5c4-4f42-ae6a-9c0f36fd6d5a",
   "metadata": {},
   "source": [
    "### Jumping into aggregations:"
   ]
  },
  {
   "cell_type": "markdown",
   "id": "9cca4a37-e7f8-46b6-b7d5-6c5f6938e26c",
   "metadata": {},
   "source": [
    "After reviewing the data, I thought it would be beneficial to take a look at the Employees as it pertains to Revenue and Quantity sold:"
   ]
  },
  {
   "cell_type": "code",
   "execution_count": 7,
   "id": "6dfcb2e7-20ce-4cc9-9fac-e7c4c5bdf576",
   "metadata": {},
   "outputs": [
    {
     "data": {
      "text/plain": [
       "np.float64(439099.33)"
      ]
     },
     "execution_count": 7,
     "metadata": {},
     "output_type": "execute_result"
    }
   ],
   "source": [
    "total_sales = df['Subtotal'].sum()\n",
    "total_sales"
   ]
  },
  {
   "cell_type": "code",
   "execution_count": 8,
   "id": "e8a8df00-a932-498e-8239-d878c4719ca4",
   "metadata": {},
   "outputs": [
    {
     "data": {
      "text/plain": [
       "np.int64(17091)"
      ]
     },
     "execution_count": 8,
     "metadata": {},
     "output_type": "execute_result"
    }
   ],
   "source": [
    "total_units_sold = df['Quantity'].sum()\n",
    "total_units_sold"
   ]
  },
  {
   "cell_type": "markdown",
   "id": "022ebda0-6d66-4461-a440-9c17496d215b",
   "metadata": {},
   "source": [
    "#### Looking at unique values for employees:"
   ]
  },
  {
   "cell_type": "code",
   "execution_count": 9,
   "id": "40e66607-b04c-46dc-ab6b-923c2182df32",
   "metadata": {},
   "outputs": [
    {
     "data": {
      "text/plain": [
       "0          Nancy Davolio\n",
       "221        Andrew Fuller\n",
       "366      Janet Leverling\n",
       "562     Margaret Peacock\n",
       "827      Steven Buchanan\n",
       "900       Michael Suyama\n",
       "1018         Robert King\n",
       "1119      Laura Callahan\n",
       "1291      Anne Dodsworth\n",
       "Name: Employee, dtype: object"
      ]
     },
     "execution_count": 9,
     "metadata": {},
     "output_type": "execute_result"
    }
   ],
   "source": [
    "employees = df['Employee']\n",
    "employees.drop_duplicates()"
   ]
  },
  {
   "cell_type": "markdown",
   "id": "f67d178b-17ab-4e66-b3f8-716c449b00a4",
   "metadata": {},
   "source": [
    "The first step I took was to look at Employee sales and figure out the revenue and qty sold by each Employee:"
   ]
  },
  {
   "cell_type": "code",
   "execution_count": 10,
   "id": "a8d4a955-cec6-4806-836d-af39595157e8",
   "metadata": {},
   "outputs": [
    {
     "data": {
      "text/html": [
       "<div>\n",
       "<style scoped>\n",
       "    .dataframe tbody tr th:only-of-type {\n",
       "        vertical-align: middle;\n",
       "    }\n",
       "\n",
       "    .dataframe tbody tr th {\n",
       "        vertical-align: top;\n",
       "    }\n",
       "\n",
       "    .dataframe thead th {\n",
       "        text-align: right;\n",
       "    }\n",
       "</style>\n",
       "<table border=\"1\" class=\"dataframe\">\n",
       "  <thead>\n",
       "    <tr style=\"text-align: right;\">\n",
       "      <th></th>\n",
       "      <th>Subtotal</th>\n",
       "      <th>Quantity</th>\n",
       "    </tr>\n",
       "    <tr>\n",
       "      <th>Employee</th>\n",
       "      <th></th>\n",
       "      <th></th>\n",
       "    </tr>\n",
       "  </thead>\n",
       "  <tbody>\n",
       "    <tr>\n",
       "      <th>Andrew Fuller</th>\n",
       "      <td>49583.21</td>\n",
       "      <td>1829</td>\n",
       "    </tr>\n",
       "    <tr>\n",
       "      <th>Anne Dodsworth</th>\n",
       "      <td>25215.25</td>\n",
       "      <td>822</td>\n",
       "    </tr>\n",
       "    <tr>\n",
       "      <th>Janet Leverling</th>\n",
       "      <td>57347.97</td>\n",
       "      <td>2552</td>\n",
       "    </tr>\n",
       "    <tr>\n",
       "      <th>Laura Callahan</th>\n",
       "      <td>57014.73</td>\n",
       "      <td>2250</td>\n",
       "    </tr>\n",
       "    <tr>\n",
       "      <th>Margaret Peacock</th>\n",
       "      <td>94531.50</td>\n",
       "      <td>3308</td>\n",
       "    </tr>\n",
       "    <tr>\n",
       "      <th>Michael Suyama</th>\n",
       "      <td>34899.51</td>\n",
       "      <td>1532</td>\n",
       "    </tr>\n",
       "    <tr>\n",
       "      <th>Nancy Davolio</th>\n",
       "      <td>69532.81</td>\n",
       "      <td>2495</td>\n",
       "    </tr>\n",
       "    <tr>\n",
       "      <th>Robert King</th>\n",
       "      <td>29596.60</td>\n",
       "      <td>1299</td>\n",
       "    </tr>\n",
       "    <tr>\n",
       "      <th>Steven Buchanan</th>\n",
       "      <td>21377.75</td>\n",
       "      <td>1004</td>\n",
       "    </tr>\n",
       "  </tbody>\n",
       "</table>\n",
       "</div>"
      ],
      "text/plain": [
       "                  Subtotal  Quantity\n",
       "Employee                            \n",
       "Andrew Fuller     49583.21      1829\n",
       "Anne Dodsworth    25215.25       822\n",
       "Janet Leverling   57347.97      2552\n",
       "Laura Callahan    57014.73      2250\n",
       "Margaret Peacock  94531.50      3308\n",
       "Michael Suyama    34899.51      1532\n",
       "Nancy Davolio     69532.81      2495\n",
       "Robert King       29596.60      1299\n",
       "Steven Buchanan   21377.75      1004"
      ]
     },
     "execution_count": 10,
     "metadata": {},
     "output_type": "execute_result"
    }
   ],
   "source": [
    "df_drop1 = df.drop(['TransactionID', 'CustID', 'Date', 'VendorID', 'ProductVendor', 'Tax(8%)', 'OrderTotal'], axis = 1)\n",
    "df_drop1\n",
    "df_Employee_sales = df_drop1.groupby('Employee').agg({'Subtotal' : 'sum', 'Quantity' : 'sum'})\n",
    "df_Employee_sales"
   ]
  },
  {
   "cell_type": "markdown",
   "id": "79f3b13a-3ea0-4eba-a7ad-a799438de49a",
   "metadata": {},
   "source": [
    "Total Revenue:"
   ]
  },
  {
   "cell_type": "code",
   "execution_count": 11,
   "id": "036baf3f-0ca6-40ee-ae9e-df7ce46fa0cb",
   "metadata": {},
   "outputs": [
    {
     "data": {
      "text/plain": [
       "Employee\n",
       "Margaret Peacock    94531.50\n",
       "Nancy Davolio       69532.81\n",
       "Janet Leverling     57347.97\n",
       "Laura Callahan      57014.73\n",
       "Andrew Fuller       49583.21\n",
       "Michael Suyama      34899.51\n",
       "Robert King         29596.60\n",
       "Anne Dodsworth      25215.25\n",
       "Steven Buchanan     21377.75\n",
       "Name: Subtotal, dtype: float64"
      ]
     },
     "execution_count": 11,
     "metadata": {},
     "output_type": "execute_result"
    }
   ],
   "source": [
    "df_Employee_sales['Subtotal'].sort_values(ascending = False)"
   ]
  },
  {
   "cell_type": "markdown",
   "id": "7bc0aeba-bce6-4835-8728-7250d29d460b",
   "metadata": {},
   "source": [
    "Quantity sold:"
   ]
  },
  {
   "cell_type": "code",
   "execution_count": 12,
   "id": "0f048c6c-5e09-4174-a8bd-426a17e21622",
   "metadata": {},
   "outputs": [
    {
     "data": {
      "text/plain": [
       "Employee\n",
       "Margaret Peacock    3308\n",
       "Janet Leverling     2552\n",
       "Nancy Davolio       2495\n",
       "Laura Callahan      2250\n",
       "Andrew Fuller       1829\n",
       "Michael Suyama      1532\n",
       "Robert King         1299\n",
       "Steven Buchanan     1004\n",
       "Anne Dodsworth       822\n",
       "Name: Quantity, dtype: int64"
      ]
     },
     "execution_count": 12,
     "metadata": {},
     "output_type": "execute_result"
    }
   ],
   "source": [
    "df_Employee_sales['Quantity'].sort_values(ascending = False)"
   ]
  },
  {
   "cell_type": "markdown",
   "id": "64ee284d-f1ed-4c76-8fa3-f20e423dc890",
   "metadata": {},
   "source": [
    "#### Key Takeaways: "
   ]
  },
  {
   "cell_type": "markdown",
   "id": "52ab37ae-467e-47ad-9f9a-b08a5b6590d9",
   "metadata": {},
   "source": [
    "There is quite a large gap in terms of Revenue in sales for Margaret Peacock. She is at 94,531.50, with Steven Buchanan being the low at 21,377.75. I am going to focus my analysis on bridging the gap between Employees in terms of Sales to positively benefit the Revenue of the company. "
   ]
  },
  {
   "cell_type": "markdown",
   "id": "5c3d9871-f8df-4797-9a90-564a5b33cf7c",
   "metadata": {},
   "source": [
    "##### Looking at unique Product names:"
   ]
  },
  {
   "cell_type": "code",
   "execution_count": 13,
   "id": "af5cc83a-e8de-4eac-9844-e11682cf3bde",
   "metadata": {},
   "outputs": [
    {
     "data": {
      "text/plain": [
       "array(['Mascarpone Fabioli', 'Guaran Fantstica', 'Raclette Courdavault',\n",
       "       \"Sir Rodney's Marmalade\", 'Carnarvon Tigers', 'Vegie-spread',\n",
       "       'Rhnbru Klosterbier', 'Flotemysost', 'Nord-Ost Matjeshering',\n",
       "       'Perth Pasties', 'Tourtire', 'Singaporean Hokkien Fried Mee',\n",
       "       'Gudbrandsdalsost', \"Jack's New England Clam Chowder\",\n",
       "       \"Grandma's Boysenberry Spread\", 'Konbu', 'Tofu',\n",
       "       'Gorgonzola Telino', 'Cte de Blaye',\n",
       "       'Louisiana Fiery Hot Pepper Sauce', 'Gumbr Gummibrchen',\n",
       "       'Camembert Pierrot', 'Inlagd Sill', 'Escargots de Bourgogne',\n",
       "       'Rssle Sauerkraut', 'Chartreuse verte',\n",
       "       \"Uncle Bob's Organic Dried Pears\", 'Scottish Longbreads',\n",
       "       'NuNuCa Nu-Nougat-Creme', 'Tarte au sucre',\n",
       "       'Mozzarella di Giovanni', 'Thringer Rostbratwurst', 'Chocolade',\n",
       "       'Boston Crab Meat', 'Gula Malacca', 'Geitost', 'Queso Cabrales',\n",
       "       'Longlife Tofu', 'Ikura', 'Manjimup Dried Apples', 'Rd Kaviar',\n",
       "       'Genen Shouyu', 'Steeleye Stout', 'Original Frankfurter grne Soe',\n",
       "       'Aniseed Syrup', 'Lakkalikri', 'Maxilaku',\n",
       "       'Gnocchi di nonna Alice', 'Outback Lager', 'Pt chinois',\n",
       "       'Wimmers gute Semmelkndel', 'Pavlova',\n",
       "       'Teatime Chocolate Biscuits', 'Zaanse koeken', 'Spegesild',\n",
       "       'Chang', 'Ipoh Coffee', \"Sirop d'rable\", 'Ravioli Angelo',\n",
       "       \"Chef Anton's Cajun Seasoning\", 'Northwoods Cranberry Sauce',\n",
       "       'Filo Mix', 'Queso Manchego La Pastora', 'Tunnbrd',\n",
       "       'Louisiana Hot Spiced Okra', \"Sir Rodney's Scones\", 'Rogede sild',\n",
       "       'Mishi Kobe Niku', \"Gustaf's Knckebrd\", 'Alice Mutton', 'Chai',\n",
       "       'Sasquatch Ale', 'Schoggi Schokolade', 'Valkoinen suklaa',\n",
       "       'Laughing Lumberjack Lager', 'Gravad lax',\n",
       "       \"Chef Anton's Gumbo Mix\"], dtype=object)"
      ]
     },
     "execution_count": 13,
     "metadata": {},
     "output_type": "execute_result"
    }
   ],
   "source": [
    "df['ProductName'].unique()"
   ]
  },
  {
   "cell_type": "markdown",
   "id": "03f1c706-273a-4562-9fc5-f0f842307454",
   "metadata": {},
   "source": [
    "##### Finding the top 8 Products based on Total sales and quantity sold:"
   ]
  },
  {
   "cell_type": "code",
   "execution_count": 14,
   "id": "d5b1bb35-627f-4499-8410-cf7c39add2cc",
   "metadata": {},
   "outputs": [
    {
     "data": {
      "text/html": [
       "<div>\n",
       "<style scoped>\n",
       "    .dataframe tbody tr th:only-of-type {\n",
       "        vertical-align: middle;\n",
       "    }\n",
       "\n",
       "    .dataframe tbody tr th {\n",
       "        vertical-align: top;\n",
       "    }\n",
       "\n",
       "    .dataframe thead th {\n",
       "        text-align: right;\n",
       "    }\n",
       "</style>\n",
       "<table border=\"1\" class=\"dataframe\">\n",
       "  <thead>\n",
       "    <tr style=\"text-align: right;\">\n",
       "      <th></th>\n",
       "      <th>Subtotal</th>\n",
       "      <th>Quantity</th>\n",
       "    </tr>\n",
       "    <tr>\n",
       "      <th>ProductName</th>\n",
       "      <th></th>\n",
       "      <th></th>\n",
       "    </tr>\n",
       "  </thead>\n",
       "  <tbody>\n",
       "    <tr>\n",
       "      <th>Thringer Rostbratwurst</th>\n",
       "      <td>36984.42</td>\n",
       "      <td>324</td>\n",
       "    </tr>\n",
       "    <tr>\n",
       "      <th>Cte de Blaye</th>\n",
       "      <td>31356.50</td>\n",
       "      <td>129</td>\n",
       "    </tr>\n",
       "    <tr>\n",
       "      <th>Tarte au sucre</th>\n",
       "      <td>17478.30</td>\n",
       "      <td>372</td>\n",
       "    </tr>\n",
       "    <tr>\n",
       "      <th>Manjimup Dried Apples</th>\n",
       "      <td>16313.40</td>\n",
       "      <td>320</td>\n",
       "    </tr>\n",
       "    <tr>\n",
       "      <th>Gnocchi di nonna Alice</th>\n",
       "      <td>16112.00</td>\n",
       "      <td>454</td>\n",
       "    </tr>\n",
       "    <tr>\n",
       "      <th>Raclette Courdavault</th>\n",
       "      <td>15257.00</td>\n",
       "      <td>301</td>\n",
       "    </tr>\n",
       "    <tr>\n",
       "      <th>Rssle Sauerkraut</th>\n",
       "      <td>13241.60</td>\n",
       "      <td>315</td>\n",
       "    </tr>\n",
       "    <tr>\n",
       "      <th>Carnarvon Tigers</th>\n",
       "      <td>12862.50</td>\n",
       "      <td>214</td>\n",
       "    </tr>\n",
       "  </tbody>\n",
       "</table>\n",
       "</div>"
      ],
      "text/plain": [
       "                        Subtotal  Quantity\n",
       "ProductName                               \n",
       "Thringer Rostbratwurst  36984.42       324\n",
       "Cte de Blaye            31356.50       129\n",
       "Tarte au sucre          17478.30       372\n",
       "Manjimup Dried Apples   16313.40       320\n",
       "Gnocchi di nonna Alice  16112.00       454\n",
       "Raclette Courdavault    15257.00       301\n",
       "Rssle Sauerkraut        13241.60       315\n",
       "Carnarvon Tigers        12862.50       214"
      ]
     },
     "execution_count": 14,
     "metadata": {},
     "output_type": "execute_result"
    }
   ],
   "source": [
    "df_top_selling_item = df.groupby('ProductName').agg({'Subtotal' : 'sum', 'Quantity': 'sum'}).sort_values('Subtotal', ascending = False).head(8)\n",
    "df_top_selling_item"
   ]
  },
  {
   "cell_type": "code",
   "execution_count": 15,
   "id": "1dcecb25-3b0f-47a4-9487-14fd67705215",
   "metadata": {},
   "outputs": [
    {
     "data": {
      "image/png": "[encoded data removed]",
      "text/plain": [
       "<Figure size 640x480 with 1 Axes>"
      ]
     },
     "metadata": {},
     "output_type": "display_data"
    }
   ],
   "source": [
    "df_top_selling_item = df_top_selling_item.reset_index()\n",
    "plt.title('Total Revenue by Top 8 Products')\n",
    "plt.xlabel('Total Sales')\n",
    "plt.ylabel('Product Name')\n",
    "plt.barh(df_top_selling_item['ProductName'], df_top_selling_item['Subtotal'])\n",
    "plt.show()"
   ]
  },
  {
   "cell_type": "code",
   "execution_count": 17,
   "id": "1e49dc4b-8543-404a-9adf-a5749fccce6b",
   "metadata": {},
   "outputs": [
    {
     "data": {
      "text/plain": [
       "np.float64(0.1556388619404179)"
      ]
     },
     "execution_count": 17,
     "metadata": {},
     "output_type": "execute_result"
    }
   ],
   "source": [
    "(36984.42 + 31356.50) / total_sales"
   ]
  },
  {
   "cell_type": "markdown",
   "id": "ee010bfe-6fca-426a-9438-66cb4bf859ca",
   "metadata": {},
   "source": [
    "##### About 16% of total revenue is coming from 2 products!"
   ]
  },
  {
   "cell_type": "markdown",
   "id": "d329d739-4fb4-48d5-884a-b9bcef7ffd87",
   "metadata": {},
   "source": [
    "### Key Takeaways: "
   ]
  },
  {
   "cell_type": "markdown",
   "id": "99a409ee-5d89-47c0-8840-fd19d56648e4",
   "metadata": {},
   "source": [
    "Thringer Rostbratwurst and Cte de Blaye are clearly the Revenue earners in terms of Total Sales. I am able to tell these items are definitely two of the more pricey Products at the company based on neither of them being within the top 10 of Quantity sold. In order to maximize revenue, pushing these products to increase qty sold will help to increase total sales and Revenue."
   ]
  },
  {
   "cell_type": "markdown",
   "id": "71aff885-03db-4d88-a947-89faf96ae0ba",
   "metadata": {},
   "source": [
    "### Employee sales by product:"
   ]
  },
  {
   "cell_type": "code",
   "execution_count": 18,
   "id": "b3befd71-995f-486a-b770-448db34f3e1c",
   "metadata": {},
   "outputs": [
    {
     "data": {
      "text/html": [
       "<div>\n",
       "<style scoped>\n",
       "    .dataframe tbody tr th:only-of-type {\n",
       "        vertical-align: middle;\n",
       "    }\n",
       "\n",
       "    .dataframe tbody tr th {\n",
       "        vertical-align: top;\n",
       "    }\n",
       "\n",
       "    .dataframe thead th {\n",
       "        text-align: right;\n",
       "    }\n",
       "</style>\n",
       "<table border=\"1\" class=\"dataframe\">\n",
       "  <thead>\n",
       "    <tr style=\"text-align: right;\">\n",
       "      <th></th>\n",
       "      <th></th>\n",
       "      <th>Subtotal</th>\n",
       "      <th>Quantity</th>\n",
       "    </tr>\n",
       "    <tr>\n",
       "      <th>Employee</th>\n",
       "      <th>ProductName</th>\n",
       "      <th></th>\n",
       "      <th></th>\n",
       "    </tr>\n",
       "  </thead>\n",
       "  <tbody>\n",
       "    <tr>\n",
       "      <th rowspan=\"5\" valign=\"top\">Andrew Fuller</th>\n",
       "      <th>Alice Mutton</th>\n",
       "      <td>1872.00</td>\n",
       "      <td>48</td>\n",
       "    </tr>\n",
       "    <tr>\n",
       "      <th>Boston Crab Meat</th>\n",
       "      <td>368.00</td>\n",
       "      <td>20</td>\n",
       "    </tr>\n",
       "    <tr>\n",
       "      <th>Camembert Pierrot</th>\n",
       "      <td>1258.00</td>\n",
       "      <td>37</td>\n",
       "    </tr>\n",
       "    <tr>\n",
       "      <th>Carnarvon Tigers</th>\n",
       "      <td>500.00</td>\n",
       "      <td>8</td>\n",
       "    </tr>\n",
       "    <tr>\n",
       "      <th>Chai</th>\n",
       "      <td>360.00</td>\n",
       "      <td>20</td>\n",
       "    </tr>\n",
       "    <tr>\n",
       "      <th>...</th>\n",
       "      <th>...</th>\n",
       "      <td>...</td>\n",
       "      <td>...</td>\n",
       "    </tr>\n",
       "    <tr>\n",
       "      <th rowspan=\"5\" valign=\"top\">Steven Buchanan</th>\n",
       "      <th>Teatime Chocolate Biscuits</th>\n",
       "      <td>263.70</td>\n",
       "      <td>33</td>\n",
       "    </tr>\n",
       "    <tr>\n",
       "      <th>Tofu</th>\n",
       "      <td>409.20</td>\n",
       "      <td>22</td>\n",
       "    </tr>\n",
       "    <tr>\n",
       "      <th>Tourtire</th>\n",
       "      <td>44.70</td>\n",
       "      <td>6</td>\n",
       "    </tr>\n",
       "    <tr>\n",
       "      <th>Vegie-spread</th>\n",
       "      <td>263.40</td>\n",
       "      <td>6</td>\n",
       "    </tr>\n",
       "    <tr>\n",
       "      <th>Wimmers gute Semmelkndel</th>\n",
       "      <td>498.75</td>\n",
       "      <td>15</td>\n",
       "    </tr>\n",
       "  </tbody>\n",
       "</table>\n",
       "<p>521 rows × 2 columns</p>\n",
       "</div>"
      ],
      "text/plain": [
       "                                            Subtotal  Quantity\n",
       "Employee        ProductName                                   \n",
       "Andrew Fuller   Alice Mutton                 1872.00        48\n",
       "                Boston Crab Meat              368.00        20\n",
       "                Camembert Pierrot            1258.00        37\n",
       "                Carnarvon Tigers              500.00         8\n",
       "                Chai                          360.00        20\n",
       "...                                              ...       ...\n",
       "Steven Buchanan Teatime Chocolate Biscuits    263.70        33\n",
       "                Tofu                          409.20        22\n",
       "                Tourtire                       44.70         6\n",
       "                Vegie-spread                  263.40         6\n",
       "                Wimmers gute Semmelkndel      498.75        15\n",
       "\n",
       "[521 rows x 2 columns]"
      ]
     },
     "execution_count": 18,
     "metadata": {},
     "output_type": "execute_result"
    }
   ],
   "source": [
    "df_Employee_Product = df.groupby(['Employee', 'ProductName']).agg({'Subtotal' : 'sum', 'Quantity' : 'sum'})\n",
    "df_Employee_Product"
   ]
  },
  {
   "cell_type": "markdown",
   "id": "788f69b7-4762-4c61-9eae-0a24627e50c0",
   "metadata": {},
   "source": [
    "##### Top 10 sales by product and the employee who made the sale:"
   ]
  },
  {
   "cell_type": "code",
   "execution_count": 19,
   "id": "8eeeb8ff-6aef-422a-a243-6464abadedd8",
   "metadata": {},
   "outputs": [
    {
     "data": {
      "text/html": [
       "<div>\n",
       "<style scoped>\n",
       "    .dataframe tbody tr th:only-of-type {\n",
       "        vertical-align: middle;\n",
       "    }\n",
       "\n",
       "    .dataframe tbody tr th {\n",
       "        vertical-align: top;\n",
       "    }\n",
       "\n",
       "    .dataframe thead th {\n",
       "        text-align: right;\n",
       "    }\n",
       "</style>\n",
       "<table border=\"1\" class=\"dataframe\">\n",
       "  <thead>\n",
       "    <tr style=\"text-align: right;\">\n",
       "      <th></th>\n",
       "      <th></th>\n",
       "      <th>Subtotal</th>\n",
       "      <th>Quantity</th>\n",
       "    </tr>\n",
       "    <tr>\n",
       "      <th>Employee</th>\n",
       "      <th>ProductName</th>\n",
       "      <th></th>\n",
       "      <th></th>\n",
       "    </tr>\n",
       "  </thead>\n",
       "  <tbody>\n",
       "    <tr>\n",
       "      <th rowspan=\"2\" valign=\"top\">Margaret Peacock</th>\n",
       "      <th>Cte de Blaye</th>\n",
       "      <td>11594.00</td>\n",
       "      <td>50</td>\n",
       "    </tr>\n",
       "    <tr>\n",
       "      <th>Thringer Rostbratwurst</th>\n",
       "      <td>10941.82</td>\n",
       "      <td>96</td>\n",
       "    </tr>\n",
       "    <tr>\n",
       "      <th>Nancy Davolio</th>\n",
       "      <th>Cte de Blaye</th>\n",
       "      <td>8168.50</td>\n",
       "      <td>35</td>\n",
       "    </tr>\n",
       "    <tr>\n",
       "      <th>Laura Callahan</th>\n",
       "      <th>Thringer Rostbratwurst</th>\n",
       "      <td>7326.80</td>\n",
       "      <td>69</td>\n",
       "    </tr>\n",
       "    <tr>\n",
       "      <th>Margaret Peacock</th>\n",
       "      <th>Tarte au sucre</th>\n",
       "      <td>5914.60</td>\n",
       "      <td>127</td>\n",
       "    </tr>\n",
       "    <tr>\n",
       "      <th>Andrew Fuller</th>\n",
       "      <th>Thringer Rostbratwurst</th>\n",
       "      <td>5446.76</td>\n",
       "      <td>44</td>\n",
       "    </tr>\n",
       "    <tr>\n",
       "      <th>Nancy Davolio</th>\n",
       "      <th>Thringer Rostbratwurst</th>\n",
       "      <td>4851.32</td>\n",
       "      <td>47</td>\n",
       "    </tr>\n",
       "    <tr>\n",
       "      <th>Janet Leverling</th>\n",
       "      <th>Ipoh Coffee</th>\n",
       "      <td>4646.00</td>\n",
       "      <td>108</td>\n",
       "    </tr>\n",
       "    <tr>\n",
       "      <th>Nancy Davolio</th>\n",
       "      <th>Manjimup Dried Apples</th>\n",
       "      <td>4505.00</td>\n",
       "      <td>85</td>\n",
       "    </tr>\n",
       "    <tr>\n",
       "      <th>Michael Suyama</th>\n",
       "      <th>Manjimup Dried Apples</th>\n",
       "      <td>4483.80</td>\n",
       "      <td>85</td>\n",
       "    </tr>\n",
       "  </tbody>\n",
       "</table>\n",
       "</div>"
      ],
      "text/plain": [
       "                                         Subtotal  Quantity\n",
       "Employee         ProductName                               \n",
       "Margaret Peacock Cte de Blaye            11594.00        50\n",
       "                 Thringer Rostbratwurst  10941.82        96\n",
       "Nancy Davolio    Cte de Blaye             8168.50        35\n",
       "Laura Callahan   Thringer Rostbratwurst   7326.80        69\n",
       "Margaret Peacock Tarte au sucre           5914.60       127\n",
       "Andrew Fuller    Thringer Rostbratwurst   5446.76        44\n",
       "Nancy Davolio    Thringer Rostbratwurst   4851.32        47\n",
       "Janet Leverling  Ipoh Coffee              4646.00       108\n",
       "Nancy Davolio    Manjimup Dried Apples    4505.00        85\n",
       "Michael Suyama   Manjimup Dried Apples    4483.80        85"
      ]
     },
     "execution_count": 19,
     "metadata": {},
     "output_type": "execute_result"
    }
   ],
   "source": [
    "df_Employee_Product[['Subtotal', 'Quantity']].sort_values('Subtotal', ascending = False).head(10)"
   ]
  },
  {
   "cell_type": "markdown",
   "id": "8a7ab135-bbd3-4106-84ba-bbb765bdc87c",
   "metadata": {},
   "source": [
    "##### Bottom 10 total sales by product and employee:"
   ]
  },
  {
   "cell_type": "code",
   "execution_count": 20,
   "id": "769cc9ad-6700-4704-8251-be7d95023e82",
   "metadata": {},
   "outputs": [
    {
     "data": {
      "text/html": [
       "<div>\n",
       "<style scoped>\n",
       "    .dataframe tbody tr th:only-of-type {\n",
       "        vertical-align: middle;\n",
       "    }\n",
       "\n",
       "    .dataframe tbody tr th {\n",
       "        vertical-align: top;\n",
       "    }\n",
       "\n",
       "    .dataframe thead th {\n",
       "        text-align: right;\n",
       "    }\n",
       "</style>\n",
       "<table border=\"1\" class=\"dataframe\">\n",
       "  <thead>\n",
       "    <tr style=\"text-align: right;\">\n",
       "      <th></th>\n",
       "      <th></th>\n",
       "      <th>Subtotal</th>\n",
       "      <th>Quantity</th>\n",
       "    </tr>\n",
       "    <tr>\n",
       "      <th>Employee</th>\n",
       "      <th>ProductName</th>\n",
       "      <th></th>\n",
       "      <th></th>\n",
       "    </tr>\n",
       "  </thead>\n",
       "  <tbody>\n",
       "    <tr>\n",
       "      <th>Robert King</th>\n",
       "      <th>Geitost</th>\n",
       "      <td>16.0</td>\n",
       "      <td>8</td>\n",
       "    </tr>\n",
       "    <tr>\n",
       "      <th rowspan=\"2\" valign=\"top\">Nancy Davolio</th>\n",
       "      <th>Louisiana Hot Spiced Okra</th>\n",
       "      <td>17.0</td>\n",
       "      <td>1</td>\n",
       "    </tr>\n",
       "    <tr>\n",
       "      <th>Tunnbrd</th>\n",
       "      <td>18.0</td>\n",
       "      <td>2</td>\n",
       "    </tr>\n",
       "    <tr>\n",
       "      <th>Anne Dodsworth</th>\n",
       "      <th>Filo Mix</th>\n",
       "      <td>28.0</td>\n",
       "      <td>4</td>\n",
       "    </tr>\n",
       "    <tr>\n",
       "      <th>Nancy Davolio</th>\n",
       "      <th>Filo Mix</th>\n",
       "      <td>28.0</td>\n",
       "      <td>4</td>\n",
       "    </tr>\n",
       "    <tr>\n",
       "      <th>Anne Dodsworth</th>\n",
       "      <th>Sir Rodney's Scones</th>\n",
       "      <td>30.0</td>\n",
       "      <td>3</td>\n",
       "    </tr>\n",
       "    <tr>\n",
       "      <th>Nancy Davolio</th>\n",
       "      <th>Gula Malacca</th>\n",
       "      <td>31.0</td>\n",
       "      <td>2</td>\n",
       "    </tr>\n",
       "    <tr>\n",
       "      <th>Steven Buchanan</th>\n",
       "      <th>Geitost</th>\n",
       "      <td>35.0</td>\n",
       "      <td>14</td>\n",
       "    </tr>\n",
       "    <tr>\n",
       "      <th>Anne Dodsworth</th>\n",
       "      <th>Geitost</th>\n",
       "      <td>37.5</td>\n",
       "      <td>15</td>\n",
       "    </tr>\n",
       "    <tr>\n",
       "      <th>Laura Callahan</th>\n",
       "      <th>Pt chinois</th>\n",
       "      <td>38.4</td>\n",
       "      <td>2</td>\n",
       "    </tr>\n",
       "  </tbody>\n",
       "</table>\n",
       "</div>"
      ],
      "text/plain": [
       "                                           Subtotal  Quantity\n",
       "Employee        ProductName                                  \n",
       "Robert King     Geitost                        16.0         8\n",
       "Nancy Davolio   Louisiana Hot Spiced Okra      17.0         1\n",
       "                Tunnbrd                        18.0         2\n",
       "Anne Dodsworth  Filo Mix                       28.0         4\n",
       "Nancy Davolio   Filo Mix                       28.0         4\n",
       "Anne Dodsworth  Sir Rodney's Scones            30.0         3\n",
       "Nancy Davolio   Gula Malacca                   31.0         2\n",
       "Steven Buchanan Geitost                        35.0        14\n",
       "Anne Dodsworth  Geitost                        37.5        15\n",
       "Laura Callahan  Pt chinois                     38.4         2"
      ]
     },
     "execution_count": 20,
     "metadata": {},
     "output_type": "execute_result"
    }
   ],
   "source": [
    "df_Employee_Product[['Subtotal', 'Quantity']].sort_values('Subtotal').head(10)"
   ]
  },
  {
   "cell_type": "markdown",
   "id": "d02e2c1f-264c-43f0-bfd4-13d0a8ff0a84",
   "metadata": {},
   "source": [
    "### Key Takeaways:"
   ]
  },
  {
   "cell_type": "markdown",
   "id": "7d4b1fa9-8d12-41aa-98a5-6ac529b3b311",
   "metadata": {},
   "source": [
    "As you can see, the employees who are at the top of the total sales table are also accounting for their top sales from Thringer Rostbratwurst and Cte de Blaye. When we look at the bottom of the chart, we see employees like Steven who is also bottom of the total sales chart. Margaret Peacock made roughly the same in total sales revenue from Thringer and Cte de Blaye as Steven did in TOTAL sales. "
   ]
  },
  {
   "cell_type": "markdown",
   "id": "f617500f-572f-45c1-9fed-9c64a9d19b41",
   "metadata": {},
   "source": [
    "### Finding Employee total sales for Thringer Rostbratwurst:"
   ]
  },
  {
   "cell_type": "code",
   "execution_count": 22,
   "id": "bdf80e8c-6285-4bc5-9b07-130a2ab56ac1",
   "metadata": {},
   "outputs": [
    {
     "data": {
      "text/plain": [
       "Employee\n",
       "Margaret Peacock    10941.82\n",
       "Laura Callahan       7326.80\n",
       "Andrew Fuller        5446.76\n",
       "Nancy Davolio        4851.32\n",
       "Anne Dodsworth       4208.86\n",
       "Janet Leverling      2475.80\n",
       "Michael Suyama       1733.06\n",
       "Name: Subtotal, dtype: float64"
      ]
     },
     "execution_count": 22,
     "metadata": {},
     "output_type": "execute_result"
    }
   ],
   "source": [
    "df_top_seller = df['ProductName'] == 'Thringer Rostbratwurst'\n",
    "df_new = pd.DataFrame(df[df_top_seller])\n",
    "df_top_seller_employee = df_new.groupby('Employee').agg({'Subtotal':'sum', 'Quantity':'sum'})\n",
    "df_top_seller_employee['Subtotal'].sort_values(ascending = False)"
   ]
  },
  {
   "cell_type": "markdown",
   "id": "8b5f444a-bd9b-4909-8ab3-de5eaeb27931",
   "metadata": {},
   "source": [
    "#### Key Takeaways:"
   ]
  },
  {
   "cell_type": "markdown",
   "id": "bc454723-25f9-4f40-aa84-f6df1798a7c1",
   "metadata": {},
   "source": [
    "What is interesting is you see the top sellers like Margaret and Nancy on here, and you do not see the bottom earners like Steven and Robert, but you do see Anne Dodsworth. Anne has 200 less total sales(qty) than the next closest being Robert, and yet she has around 4000 more total sales. This leads me to believe if all the employees at the bottom of the total sales table focused on selling the top two products, and maintaining qty sold, the total revenue would benefit."
   ]
  },
  {
   "cell_type": "markdown",
   "id": "3313a3e9-df4d-4dc4-ae44-4429c93f13f9",
   "metadata": {},
   "source": [
    "### Taking a look at Steven Buchanan's sales revenue:"
   ]
  },
  {
   "cell_type": "markdown",
   "id": "7bfef9e7-8287-4496-86ee-f6a42bfaea6c",
   "metadata": {},
   "source": [
    "Sorted by total sales:"
   ]
  },
  {
   "cell_type": "code",
   "execution_count": 23,
   "id": "66a8e6e2-684a-4f0c-9e43-72e94f3d876d",
   "metadata": {},
   "outputs": [
    {
     "data": {
      "text/plain": [
       "ProductName\n",
       "Geitost                               35.00\n",
       "Tourtire                              44.70\n",
       "Steeleye Stout                        54.00\n",
       "Singaporean Hokkien Fried Mee         98.00\n",
       "Flotemysost                          103.20\n",
       "Sasquatch Ale                        112.00\n",
       "NuNuCa Nu-Nougat-Creme               140.00\n",
       "Escargots de Bourgogne               159.00\n",
       "Longlife Tofu                        168.00\n",
       "Lakkalikri                           180.00\n",
       "Guaran Fantstica                     184.50\n",
       "Rhnbru Klosterbier                   201.50\n",
       "Chai                                 216.00\n",
       "Gorgonzola Telino                    237.50\n",
       "Pavlova                              261.75\n",
       "Vegie-spread                         263.40\n",
       "Teatime Chocolate Biscuits           263.70\n",
       "Chef Anton's Cajun Seasoning         264.00\n",
       "Inlagd Sill                          304.00\n",
       "Boston Crab Meat                     308.70\n",
       "Gustaf's Knckebrd                    315.00\n",
       "Sir Rodney's Scones                  328.00\n",
       "Perth Pasties                        328.00\n",
       "Gudbrandsdalsost                     360.00\n",
       "Tofu                                 409.20\n",
       "Ravioli Angelo                       487.50\n",
       "Chang                                494.00\n",
       "Wimmers gute Semmelkndel             498.75\n",
       "Scottish Longbreads                  500.00\n",
       "Alice Mutton                         585.00\n",
       "Original Frankfurter grne Soe        650.00\n",
       "Louisiana Fiery Hot Pepper Sauce     652.55\n",
       "Raclette Courdavault                 660.00\n",
       "Gnocchi di nonna Alice               684.00\n",
       "Sir Rodney's Marmalade               777.60\n",
       "Chartreuse verte                     792.00\n",
       "Ikura                                806.00\n",
       "Camembert Pierrot                    816.00\n",
       "Manjimup Dried Apples                869.20\n",
       "Pt chinois                           979.20\n",
       "Tarte au sucre                       986.00\n",
       "Queso Cabrales                      1008.00\n",
       "Rssle Sauerkraut                    1567.20\n",
       "Mozzarella di Giovanni              2225.60\n",
       "Name: Subtotal, dtype: float64"
      ]
     },
     "execution_count": 23,
     "metadata": {},
     "output_type": "execute_result"
    }
   ],
   "source": [
    "df_Steven = df['Employee'] == 'Steven Buchanan'\n",
    "df_avg_Steven = pd.DataFrame(df[df_Steven])\n",
    "df_avg_Steven_grouped = df_avg_Steven.groupby('ProductName').agg({'Quantity' : 'sum', 'Subtotal': 'sum'})\n",
    "df_avg_Steven_grouped['Subtotal'].sort_values()"
   ]
  },
  {
   "cell_type": "markdown",
   "id": "20f5578c-e8b8-49d0-ac7e-d88a1d6dea9f",
   "metadata": {},
   "source": [
    "Sorted by Quantity:"
   ]
  },
  {
   "cell_type": "code",
   "execution_count": 24,
   "id": "37164865-9284-42f0-b91f-17f42cbfb542",
   "metadata": {},
   "outputs": [
    {
     "data": {
      "text/plain": [
       "ProductName\n",
       "Steeleye Stout                       3\n",
       "Flotemysost                          6\n",
       "Tourtire                             6\n",
       "Vegie-spread                         6\n",
       "Perth Pasties                       10\n",
       "Gudbrandsdalsost                    10\n",
       "NuNuCa Nu-Nougat-Creme              10\n",
       "Lakkalikri                          10\n",
       "Sasquatch Ale                       10\n",
       "Singaporean Hokkien Fried Mee       10\n",
       "Sir Rodney's Marmalade              12\n",
       "Raclette Courdavault                12\n",
       "Chef Anton's Cajun Seasoning        12\n",
       "Escargots de Bourgogne              12\n",
       "Geitost                             14\n",
       "Gustaf's Knckebrd                   15\n",
       "Chai                                15\n",
       "Wimmers gute Semmelkndel            15\n",
       "Alice Mutton                        15\n",
       "Pavlova                             15\n",
       "Gnocchi di nonna Alice              18\n",
       "Gorgonzola Telino                   19\n",
       "Inlagd Sill                         20\n",
       "Manjimup Dried Apples               20\n",
       "Tarte au sucre                      20\n",
       "Boston Crab Meat                    21\n",
       "Longlife Tofu                       21\n",
       "Tofu                                22\n",
       "Camembert Pierrot                   24\n",
       "Ravioli Angelo                      25\n",
       "Chang                               26\n",
       "Ikura                               26\n",
       "Rhnbru Klosterbier                  28\n",
       "Louisiana Fiery Hot Pepper Sauce    31\n",
       "Teatime Chocolate Biscuits          33\n",
       "Rssle Sauerkraut                    38\n",
       "Scottish Longbreads                 40\n",
       "Sir Rodney's Scones                 41\n",
       "Pt chinois                          45\n",
       "Guaran Fantstica                    46\n",
       "Chartreuse verte                    48\n",
       "Original Frankfurter grne Soe       50\n",
       "Queso Cabrales                      52\n",
       "Mozzarella di Giovanni              72\n",
       "Name: Quantity, dtype: int64"
      ]
     },
     "execution_count": 24,
     "metadata": {},
     "output_type": "execute_result"
    }
   ],
   "source": [
    "df_avg_Steven_grouped['Quantity'].sort_values()"
   ]
  },
  {
   "cell_type": "markdown",
   "id": "bb74b3db-d935-4543-a45f-64e920a12846",
   "metadata": {},
   "source": [
    "### Key Takeaways:"
   ]
  },
  {
   "cell_type": "markdown",
   "id": "91e61316-91bf-411d-ba8a-abaf2c8c2ce8",
   "metadata": {},
   "source": [
    "Steven is selling alot of different products, but his top seller is Mozzarella di Giovanni which only returns 2225.60. If he sold a Quantity of 72 of either of the top 2 products, his total sales would increase, even if there was a decrease in quantity sold somewhere else. "
   ]
  },
  {
   "cell_type": "markdown",
   "id": "f90bacd0-d319-41a3-8d42-a630d771480d",
   "metadata": {},
   "source": [
    "## In conclusion:"
   ]
  },
  {
   "cell_type": "markdown",
   "id": "044910bd-2f73-4a49-bc6d-17c4c452b62c",
   "metadata": {},
   "source": [
    "In order to maximize revenue, it is important that we try to close the gap in total sales between our top sellers and our bottom sellers. Based on the data, our top 2 selling products account for around 16% of the total revenue and yet neither of these products is even top 10 in quantity sold. This shows there is room for sales to grow. It starts with employees like Steven making an effort to sell those top products "
   ]
  },
  {
   "cell_type": "code",
   "execution_count": null,
   "id": "507783ab-198d-424e-82c9-faa0e1baf841",
   "metadata": {},
   "outputs": [],
   "source": []
  },
  {
   "cell_type": "code",
   "execution_count": null,
   "id": "fb64430b-5f43-46ea-9483-a7fc09d04ab5",
   "metadata": {},
   "outputs": [],
   "source": []
  },
  {
   "cell_type": "code",
   "execution_count": null,
   "id": "0ce01455-a0aa-48c1-9eab-d0e624116e3b",
   "metadata": {},
   "outputs": [],
   "source": []
  },
  {
   "cell_type": "code",
   "execution_count": null,
   "id": "3ddaebba-19e2-44ca-8359-22659c0ac6d2",
   "metadata": {},
   "outputs": [],
   "source": []
  },
  {
   "cell_type": "code",
   "execution_count": null,
   "id": "b9ac2f55-5082-4e60-b644-cd6fb5a20013",
   "metadata": {},
   "outputs": [],
   "source": []
  },
  {
   "cell_type": "code",
   "execution_count": null,
   "id": "fa9a29d4-ad91-4d11-bc60-72f14e3c9e06",
   "metadata": {},
   "outputs": [],
   "source": []
  },
  {
   "cell_type": "code",
   "execution_count": null,
   "id": "69aa7ac1-d11b-44cd-8c9a-4a793f0c86ea",
   "metadata": {},
   "outputs": [],
   "source": []
  },
  {
   "cell_type": "code",
   "execution_count": null,
   "id": "a87f7aa0-9d9d-47f7-b39b-5a97b3e4abc3",
   "metadata": {},
   "outputs": [],
   "source": []
  },
  {
   "cell_type": "code",
   "execution_count": null,
   "id": "c3e2dcc4-fd80-4126-a653-2c4dd12a6208",
   "metadata": {},
   "outputs": [],
   "source": []
  },
  {
   "cell_type": "code",
   "execution_count": null,
   "id": "610716ce-38d9-4540-b37a-22bf7a3b1d34",
   "metadata": {},
   "outputs": [],
   "source": []
  },
  {
   "cell_type": "code",
   "execution_count": null,
   "id": "b9b66841-d923-487b-b35c-3fed67114f6e",
   "metadata": {},
   "outputs": [],
   "source": []
  },
  {
   "cell_type": "code",
   "execution_count": null,
   "id": "b29fbe4d-f399-4a91-8d11-62d94a80c3e9",
   "metadata": {},
   "outputs": [],
   "source": []
  },
  {
   "cell_type": "code",
   "execution_count": null,
   "id": "aa050093-d37e-49ba-89b1-18c489f3f645",
   "metadata": {},
   "outputs": [],
   "source": []
  }
 ],
 "metadata": {
  "kernelspec": {
   "display_name": "Python 3 (ipykernel)",
   "language": "python",
   "name": "python3"
  },
  "language_info": {
   "codemirror_mode": {
    "name": "ipython",
    "version": 3
   },
   "file_extension": ".py",
   "mimetype": "text/x-python",
   "name": "python",
   "nbconvert_exporter": "python",
   "pygments_lexer": "ipython3",
   "version": "3.12.3"
  }
 },
 "nbformat": 4,
 "nbformat_minor": 5
}
